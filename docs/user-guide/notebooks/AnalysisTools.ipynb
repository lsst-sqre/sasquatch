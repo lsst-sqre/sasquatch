{
 "cells": [
  {
   "cell_type": "markdown",
   "id": "8542a124-c99b-4cdd-b33b-df94a18560db",
   "metadata": {
    "tags": []
   },
   "source": [
    "# Querying Analysis Tools metrics using the EFD Python client and InfluxQL\n",
    "\n",
    "This notebook demonstrates how to query metric values produced by [analysis_tools](https://github.com/lsst/analysis_tools) from Sasquatch."
   ]
  },
  {
   "cell_type": "markdown",
   "id": "901ad00f-56fd-4b00-bb65-f041ee9b81a4",
   "metadata": {
    "execution": {
     "iopub.execute_input": "2023-09-13T23:17:28.887304Z",
     "iopub.status.busy": "2023-09-13T23:17:28.887108Z",
     "iopub.status.idle": "2023-09-13T23:17:28.890488Z",
     "shell.execute_reply": "2023-09-13T23:17:28.890021Z",
     "shell.execute_reply.started": "2023-09-13T23:17:28.887291Z"
    },
    "tags": []
   },
   "source": [
    "Currently, the analysis_tools metrics are dispatched to the `usdfdev_efd` environment under the `lsst.dm` namespace."
   ]
  },
  {
   "cell_type": "code",
   "execution_count": null,
   "id": "39fca152-5856-48be-9cb3-b45159fd9e16",
   "metadata": {
    "tags": []
   },
   "outputs": [],
   "source": [
    "from lsst_efd_client import EfdClient\n",
    "client = EfdClient(\"usdfdev_efd\", db_name=\"lsst.dm\")"
   ]
  },
  {
   "cell_type": "markdown",
   "id": "2a14250e-eb70-4f29-820b-513943eada02",
   "metadata": {
    "execution": {
     "iopub.execute_input": "2023-09-13T23:55:44.175322Z",
     "iopub.status.busy": "2023-09-13T23:55:44.174885Z",
     "iopub.status.idle": "2023-09-13T23:55:44.178258Z",
     "shell.execute_reply": "2023-09-13T23:55:44.177781Z",
     "shell.execute_reply.started": "2023-09-13T23:55:44.175307Z"
    },
    "tags": []
   },
   "source": [
    "To get a list of analysis tools in the ``lsst.dm`` namespace, you can do:"
   ]
  },
  {
   "cell_type": "code",
   "execution_count": null,
   "id": "7cb9a703-787d-4222-ab03-8979b50dffcc",
   "metadata": {
    "tags": []
   },
   "outputs": [],
   "source": [
    "await client.get_topics()"
   ]
  },
  {
   "cell_type": "markdown",
   "id": "38c5da9a-bb0a-4d80-a01a-65f7fc8ca0ba",
   "metadata": {
    "execution": {
     "iopub.execute_input": "2024-02-08T07:08:45.547213Z",
     "iopub.status.busy": "2024-02-08T07:08:45.546717Z",
     "iopub.status.idle": "2024-02-08T07:08:45.550313Z",
     "shell.execute_reply": "2024-02-08T07:08:45.549792Z",
     "shell.execute_reply.started": "2024-02-08T07:08:45.547198Z"
    }
   },
   "source": [
    "You can query their content using InfluxQL:"
   ]
  },
  {
   "cell_type": "code",
   "execution_count": null,
   "id": "4f6afc28-3863-4a82-9796-ea3d5fb9f766",
   "metadata": {},
   "outputs": [],
   "source": [
    "query = '''SELECT * FROM \"lsst.dm.stellarAstrometricRepeatability1\" '''\n",
    "df = await client.influx_client.query(query)\n",
    "df"
   ]
  },
  {
   "cell_type": "markdown",
   "id": "ca5ef346-7404-41c8-b34f-8cfef4706d9f",
   "metadata": {
    "execution": {
     "iopub.execute_input": "2024-02-08T07:42:10.046592Z",
     "iopub.status.busy": "2024-02-08T07:42:10.046215Z",
     "iopub.status.idle": "2024-02-08T07:42:10.049656Z",
     "shell.execute_reply": "2024-02-08T07:42:10.049184Z",
     "shell.execute_reply.started": "2024-02-08T07:42:10.046575Z"
    }
   },
   "source": [
    "This query returns the metrics and associated metadata  for `stellarAstrometricRepeatability1`. In particular, the `dataset_type` indicates where `stellarAstrometricRepeatability1` is defined, [analysis_tools/pipelines\n",
    "/matchedVisitQualityCore.yaml](https://github.com/lsst/analysis_tools/blob/main/pipelines/matchedVisitQualityCore.yaml) in this case."
   ]
  },
  {
   "cell_type": "markdown",
   "id": "b6ddbfb0-8e95-4d05-9d35-16d4a20a6689",
   "metadata": {
    "execution": {
     "iopub.execute_input": "2024-02-08T07:52:41.667015Z",
     "iopub.status.busy": "2024-02-08T07:52:41.666712Z",
     "iopub.status.idle": "2024-02-08T07:52:41.669935Z",
     "shell.execute_reply": "2024-02-08T07:52:41.669459Z",
     "shell.execute_reply.started": "2024-02-08T07:52:41.667001Z"
    }
   },
   "source": [
    "To query a single metric and filter the results by dataset, for example  ``g_AM1`` for ``HSC/RC2`` use:"
   ]
  },
  {
   "cell_type": "code",
   "execution_count": null,
   "id": "711ebee9-61e8-4af8-afce-ab35d0a9f3ee",
   "metadata": {
    "tags": []
   },
   "outputs": [],
   "source": [
    "query = '''SELECT g_AM1 FROM \"lsst.dm.stellarAstrometricRepeatability1\" WHERE dataset_tag='HSC/RC2' '''\n",
    "df = await client.influx_client.query(query)\n",
    "df"
   ]
  }
 ],
 "metadata": {
  "kernelspec": {
   "display_name": "LSST",
   "language": "python",
   "name": "lsst"
  },
  "language_info": {
   "codemirror_mode": {
    "name": "ipython",
    "version": 3
   },
   "file_extension": ".py",
   "mimetype": "text/x-python",
   "name": "python",
   "nbconvert_exporter": "python",
   "pygments_lexer": "ipython3",
   "version": "3.11.7"
  }
 },
 "nbformat": 4,
 "nbformat_minor": 5
}
