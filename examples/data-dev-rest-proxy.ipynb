{
 "cells": [
  {
   "cell_type": "markdown",
   "id": "8fecfae9-ebc8-4397-b289-94926a3d7d25",
   "metadata": {},
   "source": [
    "### Get the Kafka cluster ID\n",
    "This is required to create new topics"
   ]
  },
  {
   "cell_type": "code",
   "execution_count": null,
   "id": "8f4274eb-e5a3-4721-b0b4-e82cd144867b",
   "metadata": {
    "tags": []
   },
   "outputs": [],
   "source": [
    "import requests \n",
    "\n",
    "sasquatch_rest_proxy_url = \"https://data-dev.lsst.cloud/sasquatch-rest-proxy\"\n",
    "\n",
    "headers = {\"content-type\": \"application/json\"}\n",
    "\n",
    "r = requests.get(f\"{sasquatch_rest_proxy_url}/v3/clusters\", headers=headers)\n",
    "\n",
    "cluster_id = r.json()['data'][0]['cluster_id']\n",
    "\n",
    "print(cluster_id)"
   ]
  },
  {
   "cell_type": "markdown",
   "id": "e2094edb-b9be-4865-bed9-ac59118dfc23",
   "metadata": {
    "execution": {
     "iopub.execute_input": "2023-06-14T16:21:01.300021Z",
     "iopub.status.busy": "2023-06-14T16:21:01.299786Z",
     "iopub.status.idle": "2023-06-14T16:21:01.303710Z",
     "shell.execute_reply": "2023-06-14T16:21:01.303117Z",
     "shell.execute_reply.started": "2023-06-14T16:21:01.300004Z"
    },
    "tags": []
   },
   "source": [
    "### Create a new topic\n",
    "REST Proxy at data-dev is configured to work with topics in the `lsst.Test` namespace"
   ]
  },
  {
   "cell_type": "code",
   "execution_count": null,
   "id": "68331acd-cb4f-4d63-b7de-b59d9d9985c4",
   "metadata": {
    "tags": []
   },
   "outputs": [],
   "source": [
    "namespace = \"lsst.Test\"\n",
    "topic_name = \"topic1\"\n",
    "\n",
    "topic_config = {  \n",
    "        \"topic_name\": f\"{namespace}.{topic_name}\",\n",
    "        \"partitions_count\": 1,\n",
    "        \"replication_factor\": 3\n",
    "    }\n",
    "\n",
    "headers = {\"content-type\": \"application/json\"}\n",
    "\n",
    "response = requests.post(f\"{sasquatch_rest_proxy_url}/v3/clusters/{cluster_id}/topics\", json=topic_config, headers=headers)\n",
    "print(response.text)"
   ]
  },
  {
   "cell_type": "markdown",
   "id": "d015c77b-4721-4275-864e-f0ba12d30387",
   "metadata": {},
   "source": [
    "### Send some data\n",
    "Create a payload based on the example in https://sasquatch.lsst.io/user-guide/restproxy.html#kafka-rest-proxy"
   ]
  },
  {
   "cell_type": "code",
   "execution_count": null,
   "id": "f275ffc4-ee8d-4e9c-b124-80d9bcdcbbaf",
   "metadata": {
    "tags": []
   },
   "outputs": [],
   "source": [
    "import json\n",
    "\n",
    "value_schema = json.dumps({\"namespace\": f\"{namespace}\", \n",
    "                           \"type\": \"record\", \n",
    "                           \"name\": f\"{topic_name}\", \n",
    "                           \"fields\": [{\"name\": \"timestamp\", \"type\": \"long\"}, \n",
    "                                      {\"name\": \"band\", \"type\": \"string\"}, \n",
    "                                      {\"name\": \"instrument\", \"type\": \"string\", \"default\": \"LSSTCam-imSim\"}, \n",
    "                                      {\"name\": \"meanSky\",\"type\": \"float\"}, \n",
    "                                      {\"name\": \"stdevSky\",\"type\": \"float\"}]\n",
    "                          })\n",
    "\n",
    "payload = {\n",
    "    \"value_schema\": value_schema,\n",
    "    \"records\": [\n",
    "        {\n",
    "            \"value\": {\n",
    "                \"timestamp\": 1681248783000000,\n",
    "                \"band\": \"y\",\n",
    "                \"instrument\": \"LSSTCam-imSim\",\n",
    "                \"meanSky\": -213.75839364883444,\n",
    "                \"stdevSky\": 2328.906118708811,\n",
    "            }\n",
    "        }\n",
    "    ],\n",
    "}\n",
    "payload"
   ]
  },
  {
   "cell_type": "code",
   "execution_count": null,
   "id": "bec461e1-cf1b-43bc-92e8-c7c32441fefb",
   "metadata": {
    "tags": []
   },
   "outputs": [],
   "source": [
    "import requests\n",
    "\n",
    "url = f\"{sasquatch_rest_proxy_url}/topics/{namespace}.{topic_name}\"\n",
    "\n",
    "headers = {\n",
    "    \"Content-Type\": \"application/vnd.kafka.avro.v2+json\",\n",
    "    \"Accept\": \"application/vnd.kafka.v2+json\",\n",
    "}\n",
    "\n",
    "response = requests.request(\"POST\", url, json=payload, headers=headers)\n",
    "\n",
    "print(response.text)"
   ]
  }
 ],
 "metadata": {
  "kernelspec": {
   "display_name": "LSST",
   "language": "python",
   "name": "lsst"
  },
  "language_info": {
   "codemirror_mode": {
    "name": "ipython",
    "version": 3
   },
   "file_extension": ".py",
   "mimetype": "text/x-python",
   "name": "python",
   "nbconvert_exporter": "python",
   "pygments_lexer": "ipython3",
   "version": "3.10.10"
  }
 },
 "nbformat": 4,
 "nbformat_minor": 5
}
