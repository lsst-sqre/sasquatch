{
 "cells": [
  {
   "cell_type": "markdown",
   "id": "d1379300-b784-469f-b0f1-9bb8ed398e88",
   "metadata": {},
   "source": [
    "# Sasquatch TAP example\n",
    "This notebook creates initial topics and schemas to start on the event-driven TAP development."
   ]
  },
  {
   "cell_type": "markdown",
   "id": "8fecfae9-ebc8-4397-b289-94926a3d7d25",
   "metadata": {},
   "source": [
    "### Get the Kafka cluster ID\n",
    "To create Kafka topics we are going to use the REST Proxy API v3. To use that API you need is to get the Kafka cluster ID. We are going to use the IDF development environment."
   ]
  },
  {
   "cell_type": "code",
   "execution_count": null,
   "id": "8f4274eb-e5a3-4721-b0b4-e82cd144867b",
   "metadata": {
    "tags": []
   },
   "outputs": [],
   "source": [
    "import requests \n",
    "\n",
    "sasquatch_rest_proxy_url = \"https://data-dev.lsst.cloud/sasquatch-rest-proxy\"\n",
    "\n",
    "headers = {\"content-type\": \"application/json\"}\n",
    "\n",
    "r = requests.get(f\"{sasquatch_rest_proxy_url}/v3/clusters\", headers=headers)\n",
    "\n",
    "cluster_id = r.json()['data'][0]['cluster_id']\n",
    "\n",
    "print(cluster_id)"
   ]
  },
  {
   "cell_type": "markdown",
   "id": "d015c77b-4721-4275-864e-f0ba12d30387",
   "metadata": {},
   "source": [
    "### Job run\n",
    "Schema and payload for the job-run topic"
   ]
  },
  {
   "cell_type": "code",
   "execution_count": null,
   "id": "f275ffc4-ee8d-4e9c-b124-80d9bcdcbbaf",
   "metadata": {
    "tags": []
   },
   "outputs": [],
   "source": [
    "import json\n",
    "\n",
    "value_schema = json.dumps({\"namespace\": \"lsst.tap\", \n",
    "                           \"type\": \"record\", \n",
    "                           \"name\": \"jobRun\",  \n",
    "                           \"fields\": [{\"name\": \"jobID\", \"type\": \"string\", \"doc\": \"UWS job identifier\"}, \n",
    "                                      {\"name\": \"query\", \"type\": \"string\", \"doc\": \"The SQL query to be executed by QServ\"}\n",
    "                                      ]\n",
    "                          })\n",
    "\n",
    "payload = {\n",
    "    \"value_schema\": value_schema,\n",
    "    \"records\": [\n",
    "        {\n",
    "            \"value\": {\n",
    "                \"jobID\": \"1\",\n",
    "                \"query\": \"SELECT TOP 10 * FROM table\",\n",
    "            }\n",
    "        },\n",
    "        {\n",
    "            \"value\": {\n",
    "                \"jobID\": \"2\",\n",
    "                \"query\": \"SELECT TOP 10 * FROM table\",\n",
    "            }\n",
    "        }\n",
    "    ],\n",
    "}\n",
    "payload"
   ]
  },
  {
   "cell_type": "markdown",
   "id": "7f53d1fb-2406-496d-a5b0-99ce701248a0",
   "metadata": {},
   "source": [
    "This is the URL for sending data to our topic\n"
   ]
  },
  {
   "cell_type": "code",
   "execution_count": null,
   "id": "bec461e1-cf1b-43bc-92e8-c7c32441fefb",
   "metadata": {
    "tags": []
   },
   "outputs": [],
   "source": [
    "url = f\"{sasquatch_rest_proxy_url}/topics/lsst.tap.job-run\"\n",
    "url"
   ]
  },
  {
   "cell_type": "markdown",
   "id": "620c56db-d4d2-4581-81b6-e6d88933582f",
   "metadata": {
    "execution": {
     "iopub.execute_input": "2024-05-17T17:55:59.193919Z",
     "iopub.status.busy": "2024-05-17T17:55:59.193437Z",
     "iopub.status.idle": "2024-05-17T17:55:59.199253Z",
     "shell.execute_reply": "2024-05-17T17:55:59.198713Z",
     "shell.execute_reply.started": "2024-05-17T17:55:59.193902Z"
    }
   },
   "source": [
    "Make a POST request to the topic endpoint to send data:"
   ]
  },
  {
   "cell_type": "code",
   "execution_count": null,
   "id": "340ab7c0-1b0f-4ba0-8270-39345c6f188e",
   "metadata": {},
   "outputs": [],
   "source": [
    "headers = {\n",
    "    \"Content-Type\": \"application/vnd.kafka.avro.v2+json\",\n",
    "    \"Accept\": \"application/vnd.kafka.v2+json\",\n",
    "}\n",
    "\n",
    "response = requests.request(\"POST\", url, json=payload, headers=headers)\n",
    "\n",
    "print(response.text)"
   ]
  },
  {
   "cell_type": "markdown",
   "id": "49fba953-dee3-48ea-89f4-3887ffee1958",
   "metadata": {
    "execution": {
     "iopub.execute_input": "2025-03-26T17:41:18.349777Z",
     "iopub.status.busy": "2025-03-26T17:41:18.349280Z",
     "iopub.status.idle": "2025-03-26T17:41:18.352209Z",
     "shell.execute_reply": "2025-03-26T17:41:18.351650Z",
     "shell.execute_reply.started": "2025-03-26T17:41:18.349751Z"
    }
   },
   "source": [
    "### Job Status\n",
    "Schema and payload for the job-status topic\n"
   ]
  },
  {
   "cell_type": "code",
   "execution_count": null,
   "id": "bb1f5d82-f2ba-4f81-b1bd-cb248ec49cf4",
   "metadata": {
    "tags": []
   },
   "outputs": [],
   "source": [
    "import json\n",
    "\n",
    "value_schema = json.dumps({\"namespace\": \"lsst.tap\", \n",
    "                           \"type\": \"record\", \n",
    "                           \"name\": \"jobStatus\",  \n",
    "                            \"fields\": [\n",
    "                            {\n",
    "                              \"name\": \"jobID\",\n",
    "                              \"type\": \"string\",\n",
    "                              \"doc\": \"UWS job identifier\"\n",
    "                            },\n",
    "                            {\n",
    "                              \"name\": \"qservID\",\n",
    "                              \"type\": \"string\",\n",
    "                              \"doc\": \"QServ query ID\"\n",
    "                            },\n",
    "                            {\n",
    "                              \"name\": \"status\",\n",
    "                              \"type\": {\n",
    "                                \"type\": \"enum\",\n",
    "                                \"name\": \"jobStatusEnum\",\n",
    "                                \"symbols\": [\"QUEUED\", \"EXECUTING\", \"COMPLETED\", \"ERROR\", \"ABORTED\", \"DELETED\"]\n",
    "                              },\n",
    "                               \"doc\": \"Current status of the job\",\n",
    "                            }\n",
    "                          ]\n",
    "})\n",
    "\n",
    "payload = {\n",
    "    \"value_schema\": value_schema,\n",
    "    \"records\": [\n",
    "        {\n",
    "            \"value\": {\n",
    "                \"jobID\": \"1\",\n",
    "                \"qservID\": \"1\",\n",
    "                \"status\": \"EXECUTING\",\n",
    "            }\n",
    "        },\n",
    "        {\n",
    "            \"value\": {\n",
    "                \"jobID\": \"2\",\n",
    "                \"qservID\": \"2\",\n",
    "                \"status\": \"QUEUED\",\n",
    "            }\n",
    "        }\n",
    "    ],\n",
    "}\n",
    "payload"
   ]
  },
  {
   "cell_type": "code",
   "execution_count": null,
   "id": "3cec0cb4-2057-4db4-bca1-68d6d6f2e231",
   "metadata": {
    "tags": []
   },
   "outputs": [],
   "source": [
    "url = f\"{sasquatch_rest_proxy_url}/topics/lsst.tap.job-status\"\n",
    "url"
   ]
  },
  {
   "cell_type": "code",
   "execution_count": null,
   "id": "43f7767f-471d-46aa-843b-ae8781ed3181",
   "metadata": {},
   "outputs": [],
   "source": [
    "headers = {\n",
    "    \"Content-Type\": \"application/vnd.kafka.avro.v2+json\",\n",
    "    \"Accept\": \"application/vnd.kafka.v2+json\",\n",
    "}\n",
    "\n",
    "response = requests.request(\"POST\", url, json=payload, headers=headers)\n",
    "\n",
    "print(response.text)"
   ]
  }
 ],
 "metadata": {
  "kernelspec": {
   "display_name": "LSST",
   "language": "python",
   "name": "lsst"
  },
  "language_info": {
   "codemirror_mode": {
    "name": "ipython",
    "version": 3
   },
   "file_extension": ".py",
   "mimetype": "text/x-python",
   "name": "python",
   "nbconvert_exporter": "python",
   "pygments_lexer": "ipython3",
   "version": "3.12.9"
  }
 },
 "nbformat": 4,
 "nbformat_minor": 5
}
